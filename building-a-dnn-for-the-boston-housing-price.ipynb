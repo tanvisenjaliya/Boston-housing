{
 "cells": [
  {
   "cell_type": "markdown",
   "id": "fcb7e743",
   "metadata": {
    "papermill": {
     "duration": 0.014983,
     "end_time": "2022-02-26T08:50:08.950882",
     "exception": false,
     "start_time": "2022-02-26T08:50:08.935899",
     "status": "completed"
    },
    "tags": []
   },
   "source": [
    "# <font color=darkgreen> Building a Deep Neural Network for the Boston Housing Price dataset-Worksheet-v2.0 </font>\n",
    "\n",
    "Details found at: https://www.cs.toronto.edu/~delve/data/boston/bostonDetail.html\n",
    "\n",
    "This dataset is relatively smaller than the previous datasets with only 506 data points (404 for training and 102 for testing).\n",
    "Each data point has a set of 13 features."
   ]
  },
  {
   "cell_type": "code",
   "execution_count": 1,
   "id": "509ab10d",
   "metadata": {
    "execution": {
     "iopub.execute_input": "2022-02-26T08:50:08.986168Z",
     "iopub.status.busy": "2022-02-26T08:50:08.984656Z",
     "iopub.status.idle": "2022-02-26T08:50:14.321086Z",
     "shell.execute_reply": "2022-02-26T08:50:14.320096Z",
     "shell.execute_reply.started": "2022-02-26T08:45:58.833426Z"
    },
    "papermill": {
     "duration": 5.354086,
     "end_time": "2022-02-26T08:50:14.321242",
     "exception": false,
     "start_time": "2022-02-26T08:50:08.967156",
     "status": "completed"
    },
    "tags": []
   },
   "outputs": [],
   "source": [
    "import os\n",
    "import sys\n",
    "import numpy as np\n",
    "import tensorflow as tf\n",
    "import tensorflow.keras as keras\n",
    "import matplotlib.pyplot as plt\n",
    "%matplotlib inline"
   ]
  },
  {
   "cell_type": "code",
   "execution_count": 2,
   "id": "21a85db0",
   "metadata": {
    "execution": {
     "iopub.execute_input": "2022-02-26T08:50:14.356157Z",
     "iopub.status.busy": "2022-02-26T08:50:14.355359Z",
     "iopub.status.idle": "2022-02-26T08:50:14.415425Z",
     "shell.execute_reply": "2022-02-26T08:50:14.414949Z",
     "shell.execute_reply.started": "2022-02-26T08:46:12.631617Z"
    },
    "papermill": {
     "duration": 0.079132,
     "end_time": "2022-02-26T08:50:14.415537",
     "exception": false,
     "start_time": "2022-02-26T08:50:14.336405",
     "status": "completed"
    },
    "tags": []
   },
   "outputs": [
    {
     "name": "stdout",
     "output_type": "stream",
     "text": [
      "Downloading data from https://storage.googleapis.com/tensorflow/tf-keras-datasets/boston_housing.npz\n",
      "57344/57026 [==============================] - 0s 0us/step\n",
      "65536/57026 [==================================] - 0s 0us/step\n"
     ]
    }
   ],
   "source": [
    "from tensorflow.keras.datasets import boston_housing\n",
    "(train_data, train_labels), (test_data, test_labels) = boston_housing.load_data()"
   ]
  },
  {
   "cell_type": "code",
   "execution_count": 3,
   "id": "9446f3f5",
   "metadata": {
    "execution": {
     "iopub.execute_input": "2022-02-26T08:50:14.450039Z",
     "iopub.status.busy": "2022-02-26T08:50:14.449418Z",
     "iopub.status.idle": "2022-02-26T08:50:14.452722Z",
     "shell.execute_reply": "2022-02-26T08:50:14.453297Z",
     "shell.execute_reply.started": "2022-02-26T08:46:14.243730Z"
    },
    "papermill": {
     "duration": 0.022576,
     "end_time": "2022-02-26T08:50:14.453456",
     "exception": false,
     "start_time": "2022-02-26T08:50:14.430880",
     "status": "completed"
    },
    "tags": []
   },
   "outputs": [
    {
     "name": "stdout",
     "output_type": "stream",
     "text": [
      "(404, 13)\n",
      "(102, 13)\n"
     ]
    }
   ],
   "source": [
    "print(train_data.shape)\n",
    "print(test_data.shape)"
   ]
  },
  {
   "cell_type": "code",
   "execution_count": 4,
   "id": "d75a4dd1",
   "metadata": {
    "execution": {
     "iopub.execute_input": "2022-02-26T08:50:14.489566Z",
     "iopub.status.busy": "2022-02-26T08:50:14.488995Z",
     "iopub.status.idle": "2022-02-26T08:50:14.493701Z",
     "shell.execute_reply": "2022-02-26T08:50:14.493277Z",
     "shell.execute_reply.started": "2022-02-26T08:46:15.393273Z"
    },
    "papermill": {
     "duration": 0.024027,
     "end_time": "2022-02-26T08:50:14.493813",
     "exception": false,
     "start_time": "2022-02-26T08:50:14.469786",
     "status": "completed"
    },
    "tags": []
   },
   "outputs": [
    {
     "name": "stdout",
     "output_type": "stream",
     "text": [
      "[42.3 50.  21.1 17.7]\n"
     ]
    }
   ],
   "source": [
    "# View the training labels\n",
    "# Prices are in 10,000s\n",
    "print(train_labels[1:5])"
   ]
  },
  {
   "cell_type": "code",
   "execution_count": 5,
   "id": "6bb9a649",
   "metadata": {
    "execution": {
     "iopub.execute_input": "2022-02-26T08:50:14.529393Z",
     "iopub.status.busy": "2022-02-26T08:50:14.528788Z",
     "iopub.status.idle": "2022-02-26T08:50:14.531713Z",
     "shell.execute_reply": "2022-02-26T08:50:14.532290Z",
     "shell.execute_reply.started": "2022-02-26T08:46:16.411586Z"
    },
    "papermill": {
     "duration": 0.023099,
     "end_time": "2022-02-26T08:50:14.532446",
     "exception": false,
     "start_time": "2022-02-26T08:50:14.509347",
     "status": "completed"
    },
    "tags": []
   },
   "outputs": [
    {
     "name": "stdout",
     "output_type": "stream",
     "text": [
      "[  1.23247   0.        8.14      0.        0.538     6.142    91.7\n",
      "   3.9769    4.      307.       21.      396.9      18.72   ]\n",
      "13\n"
     ]
    }
   ],
   "source": [
    "# print one sample data\n",
    "print(train_data[0])\n",
    "print(len(train_data[0]))"
   ]
  },
  {
   "cell_type": "code",
   "execution_count": 6,
   "id": "18fd270e",
   "metadata": {
    "execution": {
     "iopub.execute_input": "2022-02-26T08:50:14.572016Z",
     "iopub.status.busy": "2022-02-26T08:50:14.570254Z",
     "iopub.status.idle": "2022-02-26T08:50:14.575221Z",
     "shell.execute_reply": "2022-02-26T08:50:14.574791Z",
     "shell.execute_reply.started": "2022-02-26T08:46:19.520185Z"
    },
    "papermill": {
     "duration": 0.025932,
     "end_time": "2022-02-26T08:50:14.575322",
     "exception": false,
     "start_time": "2022-02-26T08:50:14.549390",
     "status": "completed"
    },
    "tags": []
   },
   "outputs": [
    {
     "name": "stdout",
     "output_type": "stream",
     "text": [
      "Mean = [3.74511057e+00 1.14801980e+01 1.11044307e+01 6.18811881e-02\n",
      " 5.57355941e-01 6.26708168e+00 6.90106436e+01 3.74027079e+00\n",
      " 9.44059406e+00 4.05898515e+02 1.84759901e+01 3.54783168e+02\n",
      " 1.27408168e+01]\n",
      "Std Dev =  [9.22929073e+00 2.37382770e+01 6.80287253e+00 2.40939633e-01\n",
      " 1.17147847e-01 7.08908627e-01 2.79060634e+01 2.02770050e+00\n",
      " 8.68758849e+00 1.66168506e+02 2.19765689e+00 9.39946015e+01\n",
      " 7.24556085e+00]\n"
     ]
    }
   ],
   "source": [
    "# Normalize the data by subtracting the mean from each data point and\n",
    "# dividing by the standard deviation of the data\n",
    "\n",
    "mean = train_data.mean(axis=0) # since we want the mean for each feature column\n",
    "print('Mean =', mean)\n",
    "train_data -= mean\n",
    "\n",
    "std_dev = train_data.std(axis=0)\n",
    "print('Std Dev = ', std_dev)\n",
    "train_data /= std_dev\n",
    "\n",
    "# Likewise prepare the test data (pre-processing)\n",
    "test_data -= mean\n",
    "test_data /= std_dev"
   ]
  },
  {
   "cell_type": "code",
   "execution_count": 7,
   "id": "37d1bf67",
   "metadata": {
    "execution": {
     "iopub.execute_input": "2022-02-26T08:50:14.613974Z",
     "iopub.status.busy": "2022-02-26T08:50:14.613425Z",
     "iopub.status.idle": "2022-02-26T08:50:16.978494Z",
     "shell.execute_reply": "2022-02-26T08:50:16.979127Z",
     "shell.execute_reply.started": "2022-02-26T08:46:21.379613Z"
    },
    "papermill": {
     "duration": 2.387733,
     "end_time": "2022-02-26T08:50:16.979320",
     "exception": false,
     "start_time": "2022-02-26T08:50:14.591587",
     "status": "completed"
    },
    "tags": []
   },
   "outputs": [
    {
     "name": "stderr",
     "output_type": "stream",
     "text": [
      "2022-02-26 08:50:14.688469: I tensorflow/stream_executor/cuda/cuda_gpu_executor.cc:937] successful NUMA node read from SysFS had negative value (-1), but there must be at least one NUMA node, so returning NUMA node zero\n",
      "2022-02-26 08:50:14.807253: I tensorflow/stream_executor/cuda/cuda_gpu_executor.cc:937] successful NUMA node read from SysFS had negative value (-1), but there must be at least one NUMA node, so returning NUMA node zero\n",
      "2022-02-26 08:50:14.808041: I tensorflow/stream_executor/cuda/cuda_gpu_executor.cc:937] successful NUMA node read from SysFS had negative value (-1), but there must be at least one NUMA node, so returning NUMA node zero\n",
      "2022-02-26 08:50:14.809718: I tensorflow/core/platform/cpu_feature_guard.cc:142] This TensorFlow binary is optimized with oneAPI Deep Neural Network Library (oneDNN) to use the following CPU instructions in performance-critical operations:  AVX2 AVX512F FMA\n",
      "To enable them in other operations, rebuild TensorFlow with the appropriate compiler flags.\n",
      "2022-02-26 08:50:14.810590: I tensorflow/stream_executor/cuda/cuda_gpu_executor.cc:937] successful NUMA node read from SysFS had negative value (-1), but there must be at least one NUMA node, so returning NUMA node zero\n",
      "2022-02-26 08:50:14.811256: I tensorflow/stream_executor/cuda/cuda_gpu_executor.cc:937] successful NUMA node read from SysFS had negative value (-1), but there must be at least one NUMA node, so returning NUMA node zero\n",
      "2022-02-26 08:50:14.811895: I tensorflow/stream_executor/cuda/cuda_gpu_executor.cc:937] successful NUMA node read from SysFS had negative value (-1), but there must be at least one NUMA node, so returning NUMA node zero\n",
      "2022-02-26 08:50:16.652537: I tensorflow/stream_executor/cuda/cuda_gpu_executor.cc:937] successful NUMA node read from SysFS had negative value (-1), but there must be at least one NUMA node, so returning NUMA node zero\n",
      "2022-02-26 08:50:16.653354: I tensorflow/stream_executor/cuda/cuda_gpu_executor.cc:937] successful NUMA node read from SysFS had negative value (-1), but there must be at least one NUMA node, so returning NUMA node zero\n",
      "2022-02-26 08:50:16.654087: I tensorflow/stream_executor/cuda/cuda_gpu_executor.cc:937] successful NUMA node read from SysFS had negative value (-1), but there must be at least one NUMA node, so returning NUMA node zero\n",
      "2022-02-26 08:50:16.654686: I tensorflow/core/common_runtime/gpu/gpu_device.cc:1510] Created device /job:localhost/replica:0/task:0/device:GPU:0 with 15403 MB memory:  -> device: 0, name: Tesla P100-PCIE-16GB, pci bus id: 0000:00:04.0, compute capability: 6.0\n"
     ]
    }
   ],
   "source": [
    "model = keras.Sequential([ \n",
    "        tf.keras.layers.Dense(64, activation='relu'),\n",
    "        tf.keras.layers.Dense(64, activation='relu'),\n",
    "        tf.keras.layers.Dense(1)\n",
    "    ])\n",
    "model.compile(optimizer='rmsprop', loss='mse', metrics=['mae']) # observe the loss and metrics"
   ]
  },
  {
   "cell_type": "code",
   "execution_count": 8,
   "id": "7cf87609",
   "metadata": {
    "execution": {
     "iopub.execute_input": "2022-02-26T08:50:17.019649Z",
     "iopub.status.busy": "2022-02-26T08:50:17.018975Z",
     "iopub.status.idle": "2022-02-26T08:50:20.462602Z",
     "shell.execute_reply": "2022-02-26T08:50:20.462142Z",
     "shell.execute_reply.started": "2022-02-26T08:46:30.322021Z"
    },
    "papermill": {
     "duration": 3.465115,
     "end_time": "2022-02-26T08:50:20.462746",
     "exception": false,
     "start_time": "2022-02-26T08:50:16.997631",
     "status": "completed"
    },
    "tags": []
   },
   "outputs": [
    {
     "name": "stderr",
     "output_type": "stream",
     "text": [
      "2022-02-26 08:50:17.083232: I tensorflow/compiler/mlir/mlir_graph_optimization_pass.cc:185] None of the MLIR Optimization Passes are enabled (registered 2)\n"
     ]
    },
    {
     "name": "stdout",
     "output_type": "stream",
     "text": [
      "Epoch 1/30\n",
      "26/26 [==============================] - 1s 2ms/step - loss: 516.4373 - mae: 20.8991\n",
      "Epoch 2/30\n",
      "26/26 [==============================] - 0s 2ms/step - loss: 357.2876 - mae: 16.9298\n",
      "Epoch 3/30\n",
      "26/26 [==============================] - 0s 2ms/step - loss: 186.3555 - mae: 11.4082\n",
      "Epoch 4/30\n",
      "26/26 [==============================] - 0s 2ms/step - loss: 83.0603 - mae: 6.8940\n",
      "Epoch 5/30\n",
      "26/26 [==============================] - 0s 3ms/step - loss: 49.1188 - mae: 5.1980\n",
      "Epoch 6/30\n",
      "26/26 [==============================] - 0s 2ms/step - loss: 33.7227 - mae: 4.2768\n",
      "Epoch 7/30\n",
      "26/26 [==============================] - 0s 3ms/step - loss: 26.3330 - mae: 3.6975\n",
      "Epoch 8/30\n",
      "26/26 [==============================] - 0s 2ms/step - loss: 22.0673 - mae: 3.3480\n",
      "Epoch 9/30\n",
      "26/26 [==============================] - 0s 3ms/step - loss: 19.2724 - mae: 3.1275\n",
      "Epoch 10/30\n",
      "26/26 [==============================] - 0s 3ms/step - loss: 16.9121 - mae: 2.9361\n",
      "Epoch 11/30\n",
      "26/26 [==============================] - 0s 2ms/step - loss: 15.5996 - mae: 2.7750\n",
      "Epoch 12/30\n",
      "26/26 [==============================] - 0s 2ms/step - loss: 14.5284 - mae: 2.7037\n",
      "Epoch 13/30\n",
      "26/26 [==============================] - 0s 2ms/step - loss: 13.2926 - mae: 2.5529\n",
      "Epoch 14/30\n",
      "26/26 [==============================] - 0s 2ms/step - loss: 12.8176 - mae: 2.5105\n",
      "Epoch 15/30\n",
      "26/26 [==============================] - 0s 2ms/step - loss: 12.2735 - mae: 2.4383\n",
      "Epoch 16/30\n",
      "26/26 [==============================] - 0s 2ms/step - loss: 11.8544 - mae: 2.4205\n",
      "Epoch 17/30\n",
      "26/26 [==============================] - 0s 2ms/step - loss: 11.3664 - mae: 2.3693\n",
      "Epoch 18/30\n",
      "26/26 [==============================] - 0s 2ms/step - loss: 11.0871 - mae: 2.3662\n",
      "Epoch 19/30\n",
      "26/26 [==============================] - 0s 2ms/step - loss: 10.5366 - mae: 2.3071\n",
      "Epoch 20/30\n",
      "26/26 [==============================] - 0s 2ms/step - loss: 10.5757 - mae: 2.3025\n",
      "Epoch 21/30\n",
      "26/26 [==============================] - 0s 2ms/step - loss: 10.5024 - mae: 2.3080\n",
      "Epoch 22/30\n",
      "26/26 [==============================] - 0s 2ms/step - loss: 10.1935 - mae: 2.2698\n",
      "Epoch 23/30\n",
      "26/26 [==============================] - 0s 2ms/step - loss: 10.0123 - mae: 2.2348\n",
      "Epoch 24/30\n",
      "26/26 [==============================] - 0s 2ms/step - loss: 9.8332 - mae: 2.2363\n",
      "Epoch 25/30\n",
      "26/26 [==============================] - 0s 3ms/step - loss: 9.6826 - mae: 2.1991\n",
      "Epoch 26/30\n",
      "26/26 [==============================] - 0s 3ms/step - loss: 9.8150 - mae: 2.2005\n",
      "Epoch 27/30\n",
      "26/26 [==============================] - 0s 2ms/step - loss: 9.2577 - mae: 2.1588\n",
      "Epoch 28/30\n",
      "26/26 [==============================] - 0s 2ms/step - loss: 9.4235 - mae: 2.1813\n",
      "Epoch 29/30\n",
      "26/26 [==============================] - 0s 2ms/step - loss: 9.2901 - mae: 2.1577\n",
      "Epoch 30/30\n",
      "26/26 [==============================] - 0s 2ms/step - loss: 9.0647 - mae: 2.1387\n"
     ]
    },
    {
     "data": {
      "text/plain": [
       "<keras.callbacks.History at 0x7faa75daa190>"
      ]
     },
     "execution_count": 8,
     "metadata": {},
     "output_type": "execute_result"
    }
   ],
   "source": [
    "model.fit(train_data, train_labels, epochs=30, batch_size=16)"
   ]
  },
  {
   "cell_type": "code",
   "execution_count": 9,
   "id": "09634e67",
   "metadata": {
    "execution": {
     "iopub.execute_input": "2022-02-26T08:50:20.567304Z",
     "iopub.status.busy": "2022-02-26T08:50:20.566818Z",
     "iopub.status.idle": "2022-02-26T08:50:20.720327Z",
     "shell.execute_reply": "2022-02-26T08:50:20.720812Z",
     "shell.execute_reply.started": "2022-02-26T08:46:40.650749Z"
    },
    "papermill": {
     "duration": 0.208463,
     "end_time": "2022-02-26T08:50:20.720972",
     "exception": false,
     "start_time": "2022-02-26T08:50:20.512509",
     "status": "completed"
    },
    "tags": []
   },
   "outputs": [
    {
     "name": "stdout",
     "output_type": "stream",
     "text": [
      "4/4 [==============================] - 0s 2ms/step - loss: 20.9459 - mae: 2.8976\n"
     ]
    }
   ],
   "source": [
    "[mse, mae] = model.evaluate(test_data, test_labels) "
   ]
  },
  {
   "cell_type": "code",
   "execution_count": 10,
   "id": "8fe4b25b",
   "metadata": {
    "execution": {
     "iopub.execute_input": "2022-02-26T08:50:20.826361Z",
     "iopub.status.busy": "2022-02-26T08:50:20.825525Z",
     "iopub.status.idle": "2022-02-26T08:50:20.929121Z",
     "shell.execute_reply": "2022-02-26T08:50:20.928442Z",
     "shell.execute_reply.started": "2022-02-26T08:46:45.179479Z"
    },
    "papermill": {
     "duration": 0.15766,
     "end_time": "2022-02-26T08:50:20.929264",
     "exception": false,
     "start_time": "2022-02-26T08:50:20.771604",
     "status": "completed"
    },
    "tags": []
   },
   "outputs": [
    {
     "name": "stdout",
     "output_type": "stream",
     "text": [
      "Actual Price = 18.8 and Predicted Price = [18.39285]\n"
     ]
    }
   ],
   "source": [
    "# We are off by 1.12 units i.e. the predicted price is lesser than $11200\n",
    "ypred = model.predict(test_data)\n",
    "print('Actual Price = {} and Predicted Price = {}'.format(test_labels[1], ypred[1]))"
   ]
  },
  {
   "cell_type": "markdown",
   "id": "de702278",
   "metadata": {
    "papermill": {
     "duration": 0.055275,
     "end_time": "2022-02-26T08:50:21.042704",
     "exception": false,
     "start_time": "2022-02-26T08:50:20.987429",
     "status": "completed"
    },
    "tags": []
   },
   "source": [
    "### Understanding K-fold validation"
   ]
  },
  {
   "cell_type": "code",
   "execution_count": 11,
   "id": "c5533bff",
   "metadata": {
    "execution": {
     "iopub.execute_input": "2022-02-26T08:50:21.149189Z",
     "iopub.status.busy": "2022-02-26T08:50:21.148402Z",
     "iopub.status.idle": "2022-02-26T08:50:21.150891Z",
     "shell.execute_reply": "2022-02-26T08:50:21.150425Z",
     "shell.execute_reply.started": "2022-02-26T08:47:16.469758Z"
    },
    "papermill": {
     "duration": 0.058191,
     "end_time": "2022-02-26T08:50:21.151003",
     "exception": false,
     "start_time": "2022-02-26T08:50:21.092812",
     "status": "completed"
    },
    "tags": []
   },
   "outputs": [],
   "source": [
    "# We create a fucntion to make it easy for multiple calls\n",
    "def build_model():   \n",
    "    model = keras.Sequential([ \n",
    "        tf.keras.layers.Dense(64, activation='relu'),\n",
    "        tf.keras.layers.Dense(64, activation='relu'),\n",
    "        tf.keras.layers.Dense(1)\n",
    "    ])\n",
    "    model.compile(optimizer='rmsprop', loss='mse', metrics=['mae']) # observe the loss and metrics\n",
    "    return model"
   ]
  },
  {
   "cell_type": "code",
   "execution_count": 12,
   "id": "d53f73b0",
   "metadata": {
    "execution": {
     "iopub.execute_input": "2022-02-26T08:50:21.261927Z",
     "iopub.status.busy": "2022-02-26T08:50:21.261115Z",
     "iopub.status.idle": "2022-02-26T08:51:06.393140Z",
     "shell.execute_reply": "2022-02-26T08:51:06.394501Z",
     "shell.execute_reply.started": "2022-02-26T08:47:21.812647Z"
    },
    "papermill": {
     "duration": 45.192575,
     "end_time": "2022-02-26T08:51:06.394863",
     "exception": false,
     "start_time": "2022-02-26T08:50:21.202288",
     "status": "completed"
    },
    "tags": []
   },
   "outputs": [
    {
     "name": "stdout",
     "output_type": "stream",
     "text": [
      "processing fold #0\n",
      "processing fold #1\n",
      "processing fold #2\n",
      "processing fold #3\n"
     ]
    }
   ],
   "source": [
    "# Let us visit K-fold validation\n",
    "k = 4\n",
    "num_val_samples = len(train_data) // k\n",
    "num_epochs = 100\n",
    "all_scores = []\n",
    "for i in range(k):\n",
    "    print('processing fold #%d' % i)\n",
    "    val_data = train_data[i * num_val_samples: (i + 1) * num_val_samples] \n",
    "    val_labels = train_labels[i * num_val_samples: (i + 1) * num_val_samples]\n",
    "    partial_train_data = np.concatenate( \n",
    "        [train_data[:i * num_val_samples],\n",
    "         train_data[(i + 1) * num_val_samples:]],\n",
    "        axis=0)\n",
    "    partial_train_labels = np.concatenate(\n",
    "        [train_labels[:i * num_val_samples],\n",
    "         train_labels[(i + 1) * num_val_samples:]],\n",
    "        axis=0)\n",
    "    \n",
    "model = build_model() \n",
    "model.fit(partial_train_data, partial_train_labels, \n",
    "          epochs=num_epochs, batch_size=1, verbose=0)\n",
    "val_mse, val_mae = model.evaluate(val_data, val_labels, verbose=0) \n",
    "all_scores.append(val_mae)"
   ]
  },
  {
   "cell_type": "code",
   "execution_count": 13,
   "id": "56577714",
   "metadata": {
    "execution": {
     "iopub.execute_input": "2022-02-26T08:51:06.575362Z",
     "iopub.status.busy": "2022-02-26T08:51:06.574630Z",
     "iopub.status.idle": "2022-02-26T08:51:06.577579Z",
     "shell.execute_reply": "2022-02-26T08:51:06.578205Z",
     "shell.execute_reply.started": "2022-02-26T08:48:12.598735Z"
    },
    "papermill": {
     "duration": 0.073876,
     "end_time": "2022-02-26T08:51:06.578381",
     "exception": false,
     "start_time": "2022-02-26T08:51:06.504505",
     "status": "completed"
    },
    "tags": []
   },
   "outputs": [
    {
     "name": "stdout",
     "output_type": "stream",
     "text": [
      "[2.5299148559570312]\n",
      "2.5299148559570312\n"
     ]
    }
   ],
   "source": [
    "print(all_scores)\n",
    "print(np.mean(all_scores))"
   ]
  },
  {
   "cell_type": "code",
   "execution_count": 14,
   "id": "de6d33fd",
   "metadata": {
    "execution": {
     "iopub.execute_input": "2022-02-26T08:51:06.703127Z",
     "iopub.status.busy": "2022-02-26T08:51:06.702198Z",
     "iopub.status.idle": "2022-02-26T08:51:11.490733Z",
     "shell.execute_reply": "2022-02-26T08:51:11.489872Z",
     "shell.execute_reply.started": "2022-02-26T08:48:29.792697Z"
    },
    "papermill": {
     "duration": 4.852078,
     "end_time": "2022-02-26T08:51:11.490893",
     "exception": false,
     "start_time": "2022-02-26T08:51:06.638815",
     "status": "completed"
    },
    "tags": []
   },
   "outputs": [
    {
     "name": "stdout",
     "output_type": "stream",
     "text": [
      "4/4 [==============================] - 0s 3ms/step - loss: 16.6282 - mae: 2.6874\n",
      "16.628219604492188 2.6874189376831055\n"
     ]
    }
   ],
   "source": [
    "model = build_model() \n",
    "model.fit(train_data, train_labels, epochs=80, batch_size=16, verbose=0)\n",
    "test_mse_score, test_mae_score = model.evaluate(test_data, test_labels)\n",
    "print(test_mse_score, test_mae_score)"
   ]
  },
  {
   "cell_type": "code",
   "execution_count": null,
   "id": "33f4f354",
   "metadata": {
    "papermill": {
     "duration": 0.051655,
     "end_time": "2022-02-26T08:51:11.594711",
     "exception": false,
     "start_time": "2022-02-26T08:51:11.543056",
     "status": "completed"
    },
    "tags": []
   },
   "outputs": [],
   "source": []
  }
 ],
 "metadata": {
  "kernelspec": {
   "display_name": "Python 3",
   "language": "python",
   "name": "python3"
  },
  "language_info": {
   "codemirror_mode": {
    "name": "ipython",
    "version": 3
   },
   "file_extension": ".py",
   "mimetype": "text/x-python",
   "name": "python",
   "nbconvert_exporter": "python",
   "pygments_lexer": "ipython3",
   "version": "3.7.12"
  },
  "papermill": {
   "default_parameters": {},
   "duration": 73.358182,
   "end_time": "2022-02-26T08:51:14.355636",
   "environment_variables": {},
   "exception": null,
   "input_path": "__notebook__.ipynb",
   "output_path": "__notebook__.ipynb",
   "parameters": {},
   "start_time": "2022-02-26T08:50:00.997454",
   "version": "2.3.3"
  }
 },
 "nbformat": 4,
 "nbformat_minor": 5
}
